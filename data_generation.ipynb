{
 "cells": [
  {
   "cell_type": "code",
   "execution_count": 1,
   "metadata": {},
   "outputs": [],
   "source": [
    "import pandas as pd\n",
    "import numpy as np\n",
    "\n",
    "from random import sample\n",
    "from utility import *\n",
    "\n",
    "pd.set_option('display.max_columns', 100)"
   ]
  },
  {
   "cell_type": "code",
   "execution_count": 2,
   "metadata": {},
   "outputs": [],
   "source": [
    "df_games = pd.read_csv('./data/game_df.csv')"
   ]
  },
  {
   "cell_type": "code",
   "execution_count": 3,
   "metadata": {},
   "outputs": [
    {
     "data": {
      "text/html": [
       "<div>\n",
       "<style scoped>\n",
       "    .dataframe tbody tr th:only-of-type {\n",
       "        vertical-align: middle;\n",
       "    }\n",
       "\n",
       "    .dataframe tbody tr th {\n",
       "        vertical-align: top;\n",
       "    }\n",
       "\n",
       "    .dataframe thead th {\n",
       "        text-align: right;\n",
       "    }\n",
       "</style>\n",
       "<table border=\"1\" class=\"dataframe\">\n",
       "  <thead>\n",
       "    <tr style=\"text-align: right;\">\n",
       "      <th></th>\n",
       "      <th>game_id</th>\n",
       "      <th>a1_team</th>\n",
       "      <th>a1_goals</th>\n",
       "      <th>a2_team</th>\n",
       "      <th>a2_goals</th>\n",
       "      <th>a3_team</th>\n",
       "      <th>a3_goals</th>\n",
       "      <th>b1_team</th>\n",
       "      <th>b1_goals</th>\n",
       "      <th>b2_team</th>\n",
       "      <th>b2_goals</th>\n",
       "      <th>b3_team</th>\n",
       "      <th>b3_goals</th>\n",
       "      <th>c1_team</th>\n",
       "      <th>c1_goals</th>\n",
       "      <th>c2_team</th>\n",
       "      <th>c2_goals</th>\n",
       "      <th>d1_team</th>\n",
       "      <th>d1_goals</th>\n",
       "      <th>d2_team</th>\n",
       "      <th>d2_goals</th>\n",
       "      <th>score_difference</th>\n",
       "      <th>team1_victory</th>\n",
       "    </tr>\n",
       "  </thead>\n",
       "  <tbody>\n",
       "  </tbody>\n",
       "</table>\n",
       "</div>"
      ],
      "text/plain": [
       "Empty DataFrame\n",
       "Columns: [game_id, a1_team, a1_goals, a2_team, a2_goals, a3_team, a3_goals, b1_team, b1_goals, b2_team, b2_goals, b3_team, b3_goals, c1_team, c1_goals, c2_team, c2_goals, d1_team, d1_goals, d2_team, d2_goals, score_difference, team1_victory]\n",
       "Index: []"
      ]
     },
     "execution_count": 3,
     "metadata": {},
     "output_type": "execute_result"
    }
   ],
   "source": [
    "df_games.head(1)"
   ]
  },
  {
   "cell_type": "code",
   "execution_count": 4,
   "metadata": {},
   "outputs": [],
   "source": [
    "players = ['a1',\n",
    "          'a2',\n",
    "          'a3',\n",
    "          'b1',\n",
    "          'b2',\n",
    "          'b3',\n",
    "          'c1',\n",
    "          'c2',\n",
    "          'd1',\n",
    "          'd2']"
   ]
  },
  {
   "cell_type": "code",
   "execution_count": 5,
   "metadata": {},
   "outputs": [
    {
     "name": "stdout",
     "output_type": "stream",
     "text": [
      "[2]\n",
      "[2]\n",
      "[-1]\n",
      "[1]\n"
     ]
    }
   ],
   "source": [
    "df_games = populate_games(100, players, df_games)"
   ]
  },
  {
   "cell_type": "code",
   "execution_count": 6,
   "metadata": {},
   "outputs": [
    {
     "data": {
      "text/html": [
       "<div>\n",
       "<style scoped>\n",
       "    .dataframe tbody tr th:only-of-type {\n",
       "        vertical-align: middle;\n",
       "    }\n",
       "\n",
       "    .dataframe tbody tr th {\n",
       "        vertical-align: top;\n",
       "    }\n",
       "\n",
       "    .dataframe thead th {\n",
       "        text-align: right;\n",
       "    }\n",
       "</style>\n",
       "<table border=\"1\" class=\"dataframe\">\n",
       "  <thead>\n",
       "    <tr style=\"text-align: right;\">\n",
       "      <th></th>\n",
       "      <th>game_id</th>\n",
       "      <th>a1_team</th>\n",
       "      <th>a1_goals</th>\n",
       "      <th>a2_team</th>\n",
       "      <th>a2_goals</th>\n",
       "      <th>a3_team</th>\n",
       "      <th>a3_goals</th>\n",
       "      <th>b1_team</th>\n",
       "      <th>b1_goals</th>\n",
       "      <th>b2_team</th>\n",
       "      <th>b2_goals</th>\n",
       "      <th>b3_team</th>\n",
       "      <th>b3_goals</th>\n",
       "      <th>c1_team</th>\n",
       "      <th>c1_goals</th>\n",
       "      <th>c2_team</th>\n",
       "      <th>c2_goals</th>\n",
       "      <th>d1_team</th>\n",
       "      <th>d1_goals</th>\n",
       "      <th>d2_team</th>\n",
       "      <th>d2_goals</th>\n",
       "      <th>score_difference</th>\n",
       "      <th>team1_victory</th>\n",
       "    </tr>\n",
       "  </thead>\n",
       "  <tbody>\n",
       "    <tr>\n",
       "      <th>0</th>\n",
       "      <td>1</td>\n",
       "      <td>0</td>\n",
       "      <td>2</td>\n",
       "      <td>1</td>\n",
       "      <td>1</td>\n",
       "      <td>1</td>\n",
       "      <td>1</td>\n",
       "      <td>1</td>\n",
       "      <td>1</td>\n",
       "      <td>0</td>\n",
       "      <td>0</td>\n",
       "      <td>0</td>\n",
       "      <td>1</td>\n",
       "      <td>0</td>\n",
       "      <td>-1</td>\n",
       "      <td>1</td>\n",
       "      <td>-1</td>\n",
       "      <td>1</td>\n",
       "      <td>0</td>\n",
       "      <td>0</td>\n",
       "      <td>0</td>\n",
       "      <td>0</td>\n",
       "      <td>0</td>\n",
       "    </tr>\n",
       "    <tr>\n",
       "      <th>1</th>\n",
       "      <td>2</td>\n",
       "      <td>0</td>\n",
       "      <td>1</td>\n",
       "      <td>1</td>\n",
       "      <td>1</td>\n",
       "      <td>0</td>\n",
       "      <td>1</td>\n",
       "      <td>1</td>\n",
       "      <td>0</td>\n",
       "      <td>1</td>\n",
       "      <td>1</td>\n",
       "      <td>0</td>\n",
       "      <td>0</td>\n",
       "      <td>0</td>\n",
       "      <td>-1</td>\n",
       "      <td>0</td>\n",
       "      <td>0</td>\n",
       "      <td>1</td>\n",
       "      <td>-2</td>\n",
       "      <td>1</td>\n",
       "      <td>-1</td>\n",
       "      <td>-2</td>\n",
       "      <td>0</td>\n",
       "    </tr>\n",
       "  </tbody>\n",
       "</table>\n",
       "</div>"
      ],
      "text/plain": [
       "   game_id  a1_team  a1_goals a2_team  a2_goals  a3_team  a3_goals b1_team  \\\n",
       "0        1        0         2       1         1        1         1       1   \n",
       "1        2        0         1       1         1        0         1       1   \n",
       "\n",
       "   b1_goals  b2_team  b2_goals  b3_team  b3_goals  c1_team  c1_goals  c2_team  \\\n",
       "0         1        0         0        0         1        0        -1        1   \n",
       "1         0        1         1        0         0        0        -1        0   \n",
       "\n",
       "   c2_goals d1_team  d1_goals  d2_team  d2_goals score_difference  \\\n",
       "0        -1       1         0        0         0                0   \n",
       "1         0       1        -2        1        -1               -2   \n",
       "\n",
       "   team1_victory  \n",
       "0              0  \n",
       "1              0  "
      ]
     },
     "execution_count": 6,
     "metadata": {},
     "output_type": "execute_result"
    }
   ],
   "source": [
    "df_games.head(10)"
   ]
  },
  {
   "cell_type": "code",
   "execution_count": null,
   "metadata": {},
   "outputs": [],
   "source": []
  }
 ],
 "metadata": {
  "kernelspec": {
   "display_name": "Python 3",
   "language": "python",
   "name": "python3"
  },
  "language_info": {
   "codemirror_mode": {
    "name": "ipython",
    "version": 3
   },
   "file_extension": ".py",
   "mimetype": "text/x-python",
   "name": "python",
   "nbconvert_exporter": "python",
   "pygments_lexer": "ipython3",
   "version": "3.10.10"
  },
  "orig_nbformat": 4,
  "vscode": {
   "interpreter": {
    "hash": "e50035b3dfd539dbd2dca26cbba61024e04488120c7d4591534a01642a5bb0ca"
   }
  }
 },
 "nbformat": 4,
 "nbformat_minor": 2
}
